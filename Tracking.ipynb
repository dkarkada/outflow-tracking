{
 "cells": [
  {
   "cell_type": "code",
   "execution_count": 19,
   "metadata": {},
   "outputs": [],
   "source": [
    "import numpy as np\n",
    "import matplotlib.pyplot as plt\n",
    "import scipy"
   ]
  },
  {
   "cell_type": "code",
   "execution_count": null,
   "metadata": {},
   "outputs": [],
   "source": [
    "class Trajectory:\n",
    "    \n",
    "    def __init__(self, dendros):\n",
    "        self.dendros = dendros\n",
    "\n",
    "class Tracker:\n",
    "    \n",
    "    def __init__(self, dendrograms):\n",
    "        self.frames = dendrograms\n",
    "        self.trajectories = []\n",
    "    \n",
    "    def add_traj(self):\n",
    "        # if wanna use node above used node, merge up or delete old node\n",
    "        # if wanna use node below, split down or merge up or delete\n",
    "        # momentum conservation needs actual trajectory merges\n",
    "        # init is all leaves are own traj\n",
    "        # jump moves only?\n",
    "        # regularizer should penalize short trajectories"
   ]
  },
  {
   "cell_type": "code",
   "execution_count": null,
   "metadata": {},
   "outputs": [],
   "source": [
    "def e_dyn(model, b):\n",
    "    # traj in pixels. +1 for discretization error and\n",
    "    # prevent divide by zero. vectorized.\n",
    "    E = 0\n",
    "    for traj in model.trajectories:\n",
    "        locs = np.array([d.loc for d in traj.dendros])\n",
    "        v = np.diff(locs, axis=0)\n",
    "        m = np.array([d.mass for d in traj.dendros])[:-1]\n",
    "        p = m*v\n",
    "        p_norm = np.linalg.norm(p, axis=-1) + 1\n",
    "        p1 = p[:-1]\n",
    "        p2 = p[1:]\n",
    "        p1_norm = p_norm[:-1]\n",
    "        p2_norm = p_norm[1:]\n",
    "        angle_term = -2 * (p1*p2).sum(1)/(p1_norm*p2_norm)\n",
    "        inertia_term = p1_norm/p2_norm + p2_norm/p1_norm\n",
    "        E += np.sum(angle_term + b*inertia_term)\n",
    "    return E\n",
    "\n",
    "def e_pers(model, d):\n",
    "    E = 0\n",
    "    for traj in model.trajectories:\n",
    "        b1 = traj.dendros[0].loc\n",
    "        endx, endy = traj.dendros[-1].loc\n",
    "        b2 = min(np.abs(endx-d), np.abs(endy-d))\n",
    "        E += scipy.special.expit(b1-1) + scipy.special.expit(b2-1)\n",
    "    return E\n",
    "\n",
    "def e_reg(model):\n",
    "    return sum([1/len(traj) for traj, _, _ in model]) + len(model)\n",
    "\n",
    "def ident(model):\n",
    "    return 0    \n",
    "\n",
    "def energy(model):\n",
    "    a = 1\n",
    "    b = 1\n",
    "    c = 1\n",
    "    d = 1\n",
    "    e = 1\n",
    "    return e_obs(model) + a*e_dyn(model, b) + c*e_pers(model)\n",
    "        + d*e_reg(model) + e*ident(model)"
   ]
  },
  {
   "cell_type": "code",
   "execution_count": null,
   "metadata": {},
   "outputs": [],
   "source": []
  }
 ],
 "metadata": {
  "kernelspec": {
   "display_name": "Python 3",
   "language": "python",
   "name": "python3"
  },
  "language_info": {
   "codemirror_mode": {
    "name": "ipython",
    "version": 3
   },
   "file_extension": ".py",
   "mimetype": "text/x-python",
   "name": "python",
   "nbconvert_exporter": "python",
   "pygments_lexer": "ipython3",
   "version": "3.7.1"
  }
 },
 "nbformat": 4,
 "nbformat_minor": 4
}
