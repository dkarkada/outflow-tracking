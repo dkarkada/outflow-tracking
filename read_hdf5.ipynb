{
 "cells": [
  {
   "cell_type": "code",
   "execution_count": 55,
   "metadata": {},
   "outputs": [],
   "source": [
    "import numpy as np\n",
    "import yt\n",
    "yt.funcs.mylog.setLevel(40)"
   ]
  },
  {
   "cell_type": "code",
   "execution_count": 56,
   "metadata": {},
   "outputs": [
    {
     "name": "stdout",
     "output_type": "stream",
     "text": [
      "194.0\n"
     ]
    }
   ],
   "source": [
    "ds = yt.load(\"sim_data/data.0130.3d.hdf5\")\n",
    "print(ds.current_time.in_units(\"kyr\").round())"
   ]
  },
  {
   "cell_type": "code",
   "execution_count": 44,
   "metadata": {},
   "outputs": [
    {
     "name": "stdout",
     "output_type": "stream",
     "text": [
      "[('chombo', 'X-magnfield'), ('chombo', 'X-momentum'), ('chombo', 'Y-magnfield'), ('chombo', 'Y-momentum'), ('chombo', 'Z-magnfield'), ('chombo', 'Z-momentum'), ('chombo', 'density'), ('chombo', 'energy-density'), ('chombo', 'gravitational-potential'), ('chombo', 'radiation-energy-density'), ('chombo', 'tracer1')]\n",
      "[53476.69696 53476.69696 53476.69696] au\n",
      "('io',)\n"
     ]
    }
   ],
   "source": [
    "print(ds.field_list)\n",
    "print(ds.domain_width.in_units(\"au\"))\n",
    "print(ds.particle_types)"
   ]
  },
  {
   "cell_type": "code",
   "execution_count": null,
   "metadata": {},
   "outputs": [],
   "source": [
    "for t, fnum in enumerate([110, 120, 130, 140]):\n",
    "    fname = \"sim_data/data.{:04d}.3d.hdf5\".format(fnum)\n",
    "    ds = yt.load(fname)\n",
    "    for axis in ['x', 'y', 'z']:\n",
    "        data = yt.ProjectionPlot(ds, axis, \"tracer1\").frb[('chombo','tracer1')]\n",
    "        data = np.array(data)\n",
    "        np.save(\"sim_data/{}_{}\".format(axis, t), data)"
   ]
  },
  {
   "cell_type": "code",
   "execution_count": 75,
   "metadata": {},
   "outputs": [
    {
     "name": "stderr",
     "output_type": "stream",
     "text": [
      "/opt/anaconda3/envs/sf/lib/python3.7/site-packages/ipykernel_launcher.py:6: MatplotlibDeprecationWarning: default base may change from np.e to 10.  To suppress this warning specify the base keyword argument.\n",
      "  \n"
     ]
    },
    {
     "data": {
      "image/png": "[encoded data removed]",
      "text/plain": [
       "<Figure size 432x288 with 1 Axes>"
      ]
     },
     "metadata": {
      "needs_background": "light"
     },
     "output_type": "display_data"
    }
   ],
   "source": [
    "import matplotlib.pyplot as plt\n",
    "from matplotlib.colors import SymLogNorm\n",
    "\n",
    "for t in range(1):\n",
    "    data = np.load(\"sim_data/z_{}.npy\".format(t))\n",
    "    plt.imshow(data, norm=SymLogNorm(linthresh=.01))\n",
    "    plt.show()"
   ]
  },
  {
   "cell_type": "code",
   "execution_count": null,
   "metadata": {},
   "outputs": [],
   "source": []
  }
 ],
 "metadata": {
  "kernelspec": {
   "display_name": "Python [conda env:sf] *",
   "language": "python",
   "name": "conda-env-sf-py"
  },
  "language_info": {
   "codemirror_mode": {
    "name": "ipython",
    "version": 3
   },
   "file_extension": ".py",
   "mimetype": "text/x-python",
   "name": "python",
   "nbconvert_exporter": "python",
   "pygments_lexer": "ipython3",
   "version": "3.7.9"
  }
 },
 "nbformat": 4,
 "nbformat_minor": 4
}
