{
 "cells": [
  {
   "cell_type": "code",
   "execution_count": 1,
   "metadata": {},
   "outputs": [],
   "source": [
    "import cv2\n",
    "import numpy as np\n",
    "from numpy.random import default_rng\n",
    "import matplotlib.pyplot as plt\n",
    "import matplotlib\n",
    "matplotlib.rc('image', cmap='gray')\n",
    "import imageio\n",
    "from PIL import Image"
   ]
  },
  {
   "cell_type": "code",
   "execution_count": 9,
   "metadata": {},
   "outputs": [],
   "source": [
    "class Bullet:\n",
    "    \n",
    "    def __init__(self, loc):\n",
    "        self.loc = loc\n",
    "        self.v = np.copy(10*loc / np.linalg.norm(loc))\n",
    "        self.mass = 1 + np.random.random()*0.5\n",
    "    \n",
    "    def incr(self):\n",
    "        self.loc += self.v\n",
    "        if np.linalg.norm(self.loc) < 60:\n",
    "            self.mass *= 1.5\n",
    "            self.v /= 1.1\n",
    "        \n",
    "def draw(bullets):\n",
    "    img = np.zeros((200, 200))\n",
    "    X, Y = np.meshgrid(np.arange(-100, 100), np.arange(-100, 100))\n",
    "    img += 5*np.exp(-((X)**2+(Y)**2)/(2*100**2))\n",
    "    for b in bullets:\n",
    "        x, y = b.loc\n",
    "        Z = 10*np.exp(-((X-x)**2+(Y-y)**2)/(2*b.mass))\n",
    "        img += Z\n",
    "    return (img/img.max() * 255).round().astype(np.uint8)\n",
    "    \n",
    "\n",
    "bullets = []\n",
    "nframes = 50\n",
    "rng = default_rng()\n",
    "frames = []\n",
    "for i in range(nframes):\n",
    "    if rng.random() < .35:\n",
    "        x = rng.random() - .5\n",
    "        y = 4 * (rng.random()<0.5) - 2\n",
    "        loc = np.array([x, y])\n",
    "        bullets.append(Bullet(loc))\n",
    "    im = draw(bullets)\n",
    "    im = Image.fromarray(im, mode='L')\n",
    "    im.save('gen2/{:02d}.png'.format(i))\n",
    "    for b in bullets:\n",
    "        b.incr()\n",
    "\n",
    "# imageio.mimsave('try.gif', frames)\n",
    "            "
   ]
  },
  {
   "cell_type": "code",
   "execution_count": 10,
   "metadata": {},
   "outputs": [],
   "source": [
    "img = np.zeros((200, 200))\n",
    "X, Y = np.meshgrid(np.arange(-100, 100), np.arange(-100, 100))\n",
    "x = 0\n",
    "y = 0\n",
    "theta = 1\n",
    "sigma_X = 20\n",
    "sigma_Y = 8\n",
    "A = 1\n",
    "a = np.cos(theta)**2/(2*sigma_X**2) + np.sin(theta)**2/(2*sigma_Y**2)\n",
    "b = -np.sin(2*theta)/(4*sigma_X**2) + np.sin(2*theta)/(4*sigma_Y**2)\n",
    "c = np.sin(theta)**2/(2*sigma_X**2) + np.cos(theta)**2/(2*sigma_Y**2)\n",
    "f = A*np.exp(-(a*(X-x)**2 + 2*b*(X-x)*(Y-y) + c*(Y-y)**2))\n",
    "plt.imsave(\"gaussian.png\", f)"
   ]
  },
  {
   "cell_type": "code",
   "execution_count": null,
   "metadata": {},
   "outputs": [],
   "source": []
  }
 ],
 "metadata": {
  "kernelspec": {
   "display_name": "Python 3",
   "language": "python",
   "name": "python3"
  },
  "language_info": {
   "codemirror_mode": {
    "name": "ipython",
    "version": 3
   },
   "file_extension": ".py",
   "mimetype": "text/x-python",
   "name": "python",
   "nbconvert_exporter": "python",
   "pygments_lexer": "ipython3",
   "version": "3.7.9"
  }
 },
 "nbformat": 4,
 "nbformat_minor": 4
}
