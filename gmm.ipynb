{
 "cells": [
  {
   "cell_type": "code",
   "execution_count": 1,
   "metadata": {},
   "outputs": [],
   "source": [
    "import numpy as np\n",
    "import matplotlib\n",
    "matplotlib.rc('image', cmap='gray')\n",
    "import matplotlib.pyplot as plt\n",
    "plt.rcParams['figure.dpi'] = 140\n",
    "import cv2\n",
    "from scipy.ndimage.filters import gaussian_filter1d\n",
    "from scipy.optimize import minimize, Bounds"
   ]
  },
  {
   "cell_type": "code",
   "execution_count": 2,
   "metadata": {},
   "outputs": [],
   "source": [
    "def find_basin_mins(img):\n",
    "    img = img - img.min()\n",
    "    img = img / img.max()\n",
    "    im = np.ones((img.shape[0]+2, img.shape[1]+2))\n",
    "    im[1:-1, 1:-1] = img\n",
    "    visited = np.ones(im.shape)\n",
    "    visited[1:-2, 1:-2] = 0\n",
    "\n",
    "    min_img = np.zeros(im.shape)\n",
    "    basin_mins = []\n",
    "\n",
    "    for i, j in np.ndindex(im.shape):\n",
    "        if visited[i, j]:\n",
    "            continue\n",
    "        cur = im[i, j]\n",
    "        bfs_queue = {(i, j)}\n",
    "        bfs_seen = set()\n",
    "        mark = None\n",
    "        while bfs_queue:\n",
    "            r, c = bfs_queue.pop()\n",
    "            neighbors = [(r-1, c), (r+1, c), (r, c-1), (r, c+1)]\n",
    "            for r_n, c_n in neighbors:\n",
    "                if im[r_n, c_n] == cur:\n",
    "                    if visited[r_n, c_n]:\n",
    "                        mark = min_img[r_n, c_n]\n",
    "                    elif (r_n, c_n) not in bfs_seen:\n",
    "                        bfs_queue.add((r_n, c_n))\n",
    "                elif im[r_n, c_n] < cur:\n",
    "                    mark = 0\n",
    "            bfs_seen.add((r, c))\n",
    "            if mark is not None:\n",
    "                break\n",
    "        if mark is None:\n",
    "            mark = 1\n",
    "            i_min, j_min = next(iter(bfs_seen))\n",
    "            basin_mins.append((i_min-1, j_min-1))\n",
    "        for r, c in bfs_seen.union(bfs_queue):\n",
    "            min_img[r, c] = mark\n",
    "            visited[r, c] = 1\n",
    "\n",
    "    return min_img[1:-1, 1:-1], basin_mins"
   ]
  },
  {
   "cell_type": "code",
   "execution_count": 3,
   "metadata": {},
   "outputs": [
    {
     "data": {
      "text/plain": [
       "<function _lambdifygenerated(X, Y, x_0, y_0, A, sigma_x, sigma_y, theta)>"
      ]
     },
     "execution_count": 3,
     "metadata": {},
     "output_type": "execute_result"
    }
   ],
   "source": [
    "import sympy as sp\n",
    "\n",
    "X, Y, x, y, A, sx, sy, theta = sp.symbols('X Y x_0 y_0 A sigma_x sigma_y theta')\n",
    "syms = [X, Y, x, y, A, sx, sy, theta]\n",
    "a = sp.cos(theta)**2/(2*sx**2) + sp.sin(theta)**2/(2*sy**2)\n",
    "b = -sp.sin(2*theta)/(4*sx**2) + sp.sin(2*theta)/(4*sy**2)\n",
    "c = sp.sin(theta)**2/(2*sx**2) + sp.cos(theta)**2/(2*sy**2)\n",
    "gauss = A*sp.exp(-(a*(X-x)**2 + 2*b*(X-x)*(Y-y) + c*(Y-y)**2))\n",
    "dg_dA = sp.lambdify(syms, sp.diff(gauss, A), 'numpy')\n",
    "dg_dsx = sp.lambdify(syms, sp.diff(gauss, sx), 'numpy')\n",
    "dg_dsy = sp.lambdify(syms, sp.diff(gauss, sy), 'numpy')\n",
    "dg_dtheta = sp.lambdify(syms, sp.diff(gauss, theta), 'numpy')\n",
    "gauss = sp.lambdify(syms, gauss, 'numpy')\n",
    "\n",
    "dg_dA\n",
    "\n"
   ]
  },
  {
   "cell_type": "code",
   "execution_count": 4,
   "metadata": {},
   "outputs": [],
   "source": [
    "def to_coord(mins, sz):\n",
    "    coords = []\n",
    "    for r, c in mins:\n",
    "        x = c - sz/2\n",
    "        y = r - sz/2 - 1\n",
    "        coords.append([x, y])\n",
    "    return np.array(coords)        "
   ]
  },
  {
   "cell_type": "code",
   "execution_count": 6,
   "metadata": {},
   "outputs": [],
   "source": [
    "import sympy as sp\n",
    "\n",
    "# def gauss(X, Y, x, y, A, sigma_X, sigma_Y, theta):\n",
    "#     a = np.cos(theta)**2/(2*sigma_X**2) + np.sin(theta)**2/(2*sigma_Y**2)\n",
    "#     b = -np.sin(2*theta)/(4*sigma_X**2) + np.sin(2*theta)/(4*sigma_Y**2)\n",
    "#     c = np.sin(theta)**2/(2*sigma_X**2) + np.cos(theta)**2/(2*sigma_Y**2)\n",
    "#     return A*np.exp(-(a*(X-x)**2 + 2*b*(X-x)*(Y-y) + c*(Y-y)**2))\n",
    "\n",
    "X, Y, x, y, A, sx, sy, theta = sp.symbols('X Y x_0 y_0 A sigma_x sigma_y theta')\n",
    "syms = [X, Y, x, y, A, sx, sy, theta]\n",
    "a = sp.cos(theta)**2/(2*sx**2) + sp.sin(theta)**2/(2*sy**2)\n",
    "b = -sp.sin(2*theta)/(4*sx**2) + sp.sin(2*theta)/(4*sy**2)\n",
    "c = sp.sin(theta)**2/(2*sx**2) + sp.cos(theta)**2/(2*sy**2)\n",
    "gauss = A*sp.exp(-(a*(X-x)**2 + 2*b*(X-x)*(Y-y) + c*(Y-y)**2))\n",
    "dg_dA = sp.lambdify(syms, sp.diff(gauss, A), 'numpy')\n",
    "dg_dsx = sp.lambdify(syms, sp.diff(gauss, sx), 'numpy')\n",
    "dg_dsy = sp.lambdify(syms, sp.diff(gauss, sy), 'numpy')\n",
    "dg_dtheta = sp.lambdify(syms, sp.diff(gauss, theta), 'numpy')\n",
    "gauss = sp.lambdify(syms, gauss, 'numpy')\n",
    "\n",
    "def gmm(params, mins, sz):\n",
    "    domain = np.linspace(-sz/2, sz/2-1, sz)\n",
    "    X, Y = np.meshgrid(domain, domain)\n",
    "    f = np.zeros(X.shape)\n",
    "    for x, y in mins:\n",
    "        f += gauss(X, Y, x, y, *params[:4])\n",
    "        params = params[4:]\n",
    "    return f\n",
    "\n",
    "def gmm_grad(params, mins, sz):\n",
    "    domain = np.linspace(-sz/2, sz/2-1, sz)\n",
    "    X, Y = np.meshgrid(domain, domain)\n",
    "    grads = []\n",
    "    for x, y in mins:\n",
    "        args  = np.concatenate([[X, Y, x, y], params[:4]])\n",
    "        grads += [dg_dA(*args), dg_dsx(*args), dg_dsy(*args), dg_dtheta(*args)]\n",
    "        params = params[4:]\n",
    "    return np.array(grads)\n",
    "    \n",
    "# not accounting for filt\n",
    "def loss(params, mins, label, filt):\n",
    "    sz = label.shape[0]\n",
    "    f = gmm(params, mins, sz)\n",
    "    loss_img = (f-label)**2\n",
    "    return np.sum(loss_img)\n",
    "\n",
    "def loss_grad(params, mins, label, filt):\n",
    "    sz = label.shape[0]\n",
    "    f = gmm(params, mins, sz)\n",
    "    return np.sum(2*(f-label) * gmm_grad(params, mins, sz), axis=(1,2))"
   ]
  },
  {
   "cell_type": "code",
   "execution_count": 24,
   "metadata": {},
   "outputs": [],
   "source": [
    "for frame_num in range(12, 13):\n",
    "    orig = cv2.imread(\"test_images/tracer/{}.png\".format(frame_num),\n",
    "                      cv2.IMREAD_GRAYSCALE)\n",
    "#     orig = cv2.imread(\"gaussians.png\", cv2.IMREAD_GRAYSCALE)\n",
    "    orig = orig[50:825, 125:900]\n",
    "    orig = cv2.resize(orig, (300, 300))\n",
    "    im = cv2.GaussianBlur(orig, (5, 5), 0)\n",
    "    im = im - im.min()\n",
    "    im = im / im.max()\n",
    "\n",
    "    min_img, mins = find_basin_mins(-im)\n",
    "    mins = to_coord(mins, im.shape[0])\n",
    "    params = np.array([1, 15, 15, 0]*len(mins))\n",
    "    filt = get_concave_map(-im)\n",
    "    bound = Bounds([.01, 2, 2, -2*np.pi]*len(mins),\n",
    "                    [np.inf, 20, 20, 2*np.pi]*len(mins))\n",
    "    res = minimize(loss, params, bounds=bound, args=(mins, im, filt),\n",
    "                   method='L-BFGS-B', jac=loss_grad, options={'gtol': 1e-1})"
   ]
  },
  {
   "cell_type": "code",
   "execution_count": 15,
   "metadata": {},
   "outputs": [],
   "source": [
    "def get_concave_map(im, thresh=0):\n",
    "    result = np.zeros(im.shape)\n",
    "\n",
    "    ygrad, xgrad = np.gradient(im)\n",
    "    ygrad = ygrad - ygrad.min()\n",
    "    xgrad = xgrad - xgrad.min()\n",
    "    yygrad, yxgrad = np.gradient(ygrad)\n",
    "    xygrad, xxgrad = np.gradient(xgrad)\n",
    "    hessians = np.array([[yygrad, yxgrad],\n",
    "                         [xygrad, xxgrad]])\n",
    "\n",
    "    for i, j in np.ndindex(im.shape):\n",
    "        hessian = hessians[:, :, i, j]\n",
    "        eigvals = np.linalg.eigvals(hessian)\n",
    "        is_max = np.all(eigvals > 0)\n",
    "        total = sum(eigvals)\n",
    "        result[i, j] = 1 if total>0.01 else 0\n",
    "#         if is_max:\n",
    "#             if total < thresh:\n",
    "#                 result[i, j] = abs(total)\n",
    "    return result"
   ]
  },
  {
   "cell_type": "code",
   "execution_count": 16,
   "metadata": {},
   "outputs": [
    {
     "data": {
      "image/png": "[encoded data removed]",
      "text/plain": [
       "<Figure size 840x560 with 1 Axes>"
      ]
     },
     "metadata": {
      "needs_background": "light"
     },
     "output_type": "display_data"
    }
   ],
   "source": [
    "filt = get_concave_map(-im)\n",
    "plt.imshow(filt*im, vmin=0, vmax=1)\n",
    "plt.show()"
   ]
  },
  {
   "cell_type": "code",
   "execution_count": 25,
   "metadata": {},
   "outputs": [
    {
     "data": {
      "image/png": "[encoded data removed]",
      "text/plain": [
       "<Figure size 840x560 with 2 Axes>"
      ]
     },
     "metadata": {
      "needs_background": "light"
     },
     "output_type": "display_data"
    }
   ],
   "source": [
    "fig, axes = plt.subplots(1,2)\n",
    "axes[0].imshow(im, vmin=0, vmax=1)\n",
    "gmm_img = gmm(res.x, mins, im.shape[0])\n",
    "axes[1].imshow(gmm_img, vmin=0, vmax=1)\n",
    "plt.show()\n",
    "# plt.savefig('gmm.png', dpi=192)"
   ]
  },
  {
   "cell_type": "code",
   "execution_count": 21,
   "metadata": {},
   "outputs": [
    {
     "name": "stdout",
     "output_type": "stream",
     "text": [
      "      fun: 72.44798042636019\n",
      " hess_inv: <64x64 LbfgsInvHessProduct with dtype=float64>\n",
      "      jac: array([-1.18398779e-03,  2.15098448e+00, -2.92108521e-03,  4.77251294e-02,\n",
      "        8.52417701e-04,  1.94930578e+00,  8.15190768e-03,  1.83455587e-02,\n",
      "       -2.57375438e-04, -3.27310409e-02, -3.72883019e-02,  4.30746036e-02,\n",
      "        1.28025547e-03,  6.18475716e-01, -3.02046200e-03,  1.54762592e-03,\n",
      "       -9.05772995e-03,  1.28115077e-01,  5.66358470e-02,  0.00000000e+00,\n",
      "       -1.72838804e-04,  1.34112061e+00, -1.38790423e-02, -1.73375891e-03,\n",
      "       -6.27507421e-03,  1.93226174e+00,  1.54928811e-02,  1.50135066e-02,\n",
      "       -1.08326077e-02,  3.85515887e+00,  3.30742802e-02, -3.92375663e-02,\n",
      "       -2.09731035e-02,  8.47597223e-01, -1.45654990e-02,  1.53349269e-03,\n",
      "        7.66442150e-04,  6.93857036e-01,  9.45190253e-03,  4.01917033e-02,\n",
      "       -2.02538178e-02, -1.14981236e-02,  6.88056855e-04, -2.78275456e-02,\n",
      "        3.56481021e-01,  9.03738344e-03,  9.44302706e-04,  9.38259686e-04,\n",
      "       -3.71544474e-03,  8.41863570e-01,  5.22748569e-02,  8.09172960e-03,\n",
      "       -1.09947049e-02, -5.47673141e-03,  1.41020512e+00,  6.41394995e-04,\n",
      "       -5.67925985e-03,  2.30264046e+00, -2.30894864e-02, -6.58308896e-04,\n",
      "        5.43859974e-01, -3.35809773e-03,  3.44806129e-02,  3.25068725e-02])\n",
      "  message: b'CONVERGENCE: NORM_OF_PROJECTED_GRADIENT_<=_PGTOL'\n",
      "     nfev: 181\n",
      "      nit: 170\n",
      "   status: 0\n",
      "  success: True\n",
      "        x: array([ 4.88378592e-01,  2.00000000e+00,  5.45223785e+00,  7.24288978e-01,\n",
      "        5.86255109e-01,  2.00000000e+00,  4.43585251e+00,  6.02278203e-01,\n",
      "        8.73367959e-01,  3.54688036e+00,  2.01095358e+00,  8.73570869e-01,\n",
      "        1.52670013e-01,  2.00000000e+00,  1.31709780e+01, -2.27568251e-01,\n",
      "        8.53794539e-02,  2.00000000e+00,  2.00000000e+00, -1.69597924e-01,\n",
      "        3.09516024e-01,  2.00000000e+00,  6.87491857e+00, -1.26588168e-01,\n",
      "        6.19102964e-01,  2.00000000e+00,  4.13412346e+00, -5.93663158e-02,\n",
      "        5.79094530e-01,  2.00000000e+00,  7.09337441e+00, -3.13760566e-02,\n",
      "        2.66069480e-01,  2.00000000e+00,  9.96840114e+00, -8.59189316e-02,\n",
      "        2.33941790e-01,  2.00000000e+00,  5.81659104e+00, -1.69730650e-01,\n",
      "        3.70045406e-02,  2.00767499e+00,  3.78273910e+00, -4.52734281e-01,\n",
      "        1.00000000e-02,  4.54385267e+00,  1.01774918e+01,  1.46586052e+00,\n",
      "        5.62941876e-01,  2.00000000e+00,  3.46285841e+00, -6.09480692e-02,\n",
      "        5.17857087e-01,  7.63071668e+00,  2.00000000e+00,  6.03413910e-01,\n",
      "        6.05894843e-01,  2.00000000e+00,  5.70096354e+00,  7.01990766e-01,\n",
      "        1.00000000e-02,  7.19412369e+00,  2.00000000e+00, -1.34685012e-01])\n",
      "[ 4.88378592e-01  2.00000000e+00  5.45223785e+00  7.24288978e-01\n",
      "  5.86255109e-01  2.00000000e+00  4.43585251e+00  6.02278203e-01\n",
      "  8.73367959e-01  3.54688036e+00  2.01095358e+00  8.73570869e-01\n",
      "  1.52670013e-01  2.00000000e+00  1.31709780e+01 -2.27568251e-01\n",
      "  8.53794539e-02  2.00000000e+00  2.00000000e+00 -1.69597924e-01\n",
      "  3.09516024e-01  2.00000000e+00  6.87491857e+00 -1.26588168e-01\n",
      "  6.19102964e-01  2.00000000e+00  4.13412346e+00 -5.93663158e-02\n",
      "  5.79094530e-01  2.00000000e+00  7.09337441e+00 -3.13760566e-02\n",
      "  2.66069480e-01  2.00000000e+00  9.96840114e+00 -8.59189316e-02\n",
      "  2.33941790e-01  2.00000000e+00  5.81659104e+00 -1.69730650e-01\n",
      "  3.70045406e-02  2.00767499e+00  3.78273910e+00 -4.52734281e-01\n",
      "  1.00000000e-02  4.54385267e+00  1.01774918e+01  1.46586052e+00\n",
      "  5.62941876e-01  2.00000000e+00  3.46285841e+00 -6.09480692e-02\n",
      "  5.17857087e-01  7.63071668e+00  2.00000000e+00  6.03413910e-01\n",
      "  6.05894843e-01  2.00000000e+00  5.70096354e+00  7.01990766e-01\n",
      "  1.00000000e-02  7.19412369e+00  2.00000000e+00 -1.34685012e-01]\n",
      "[-1.20974496e+01 -3.68602381e+00 -8.57951905e-01  3.15381662e+00\n",
      " -2.25252229e+01 -8.34685592e+00 -3.35112606e+00  1.25402896e+00\n",
      " -1.18609105e+01 -4.21187827e+00 -7.87608631e+00 -6.60554601e-01\n",
      " -2.47280930e+01 -2.19666440e+00 -2.67863274e-01  5.16582455e+00\n",
      " -4.13289644e+00 -1.24990584e-01 -1.51985507e-01  0.00000000e+00\n",
      " -1.51373022e+01 -2.00197381e+00 -8.25706056e-01  6.69069491e-01\n",
      " -1.09997324e+01 -2.55703928e+00 -1.92984792e+00  6.45462554e-01\n",
      " -1.51935987e+01 -2.84964571e+00 -1.38366525e+00 -1.53116198e+00\n",
      " -2.78718786e+01 -4.18684713e+00 -7.56176482e-01  1.09542575e+00\n",
      " -1.91787218e+01 -2.18710344e+00 -7.26774236e-01  1.27758372e-01\n",
      " -1.10420464e+01 -1.86819007e-01 -9.11486906e-02  3.46391346e-02\n",
      " -5.01001488e+01 -8.84276976e-02 -2.11427097e-02 -6.84364452e-02\n",
      " -4.57619208e+00 -1.88055240e+00 -1.04329268e+00  3.68020508e-01\n",
      " -2.34238010e+01 -9.32454527e-01 -7.85220341e+00 -8.02684524e-01\n",
      " -1.52779067e+01 -6.20242707e+00 -1.00205674e+00  1.84977863e+00\n",
      " -2.05404940e+01 -1.96182112e-02 -9.47715710e-02 -7.74557809e-02]\n",
      "175.90902337777845\n",
      "169.33545349365497\n"
     ]
    }
   ],
   "source": [
    "print(res)\n",
    "lg = loss_grad(res.x, mins, im, filt)\n",
    "print(res.x)\n",
    "print(lg)\n",
    "print(loss(res.x, mins, im, filt))\n",
    "print(loss(res.x-.001*lg, mins, im, filt))"
   ]
  },
  {
   "cell_type": "code",
   "execution_count": null,
   "metadata": {},
   "outputs": [],
   "source": []
  }
 ],
 "metadata": {
  "kernelspec": {
   "display_name": "Python 3",
   "language": "python",
   "name": "python3"
  },
  "language_info": {
   "codemirror_mode": {
    "name": "ipython",
    "version": 3
   },
   "file_extension": ".py",
   "mimetype": "text/x-python",
   "name": "python",
   "nbconvert_exporter": "python",
   "pygments_lexer": "ipython3",
   "version": "3.7.1"
  }
 },
 "nbformat": 4,
 "nbformat_minor": 4
}
