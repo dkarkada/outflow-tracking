{
 "cells": [
  {
   "cell_type": "code",
   "execution_count": 1,
   "metadata": {},
   "outputs": [],
   "source": [
    "import matplotlib.pyplot as plt\n",
    "import matplotlib._color_data as mcd\n",
    "import matplotlib.colors as mplc\n",
    "import scipy.optimize\n",
    "import jax\n",
    "from jax.nn import softmax\n",
    "from jax import grad, jit\n",
    "import jax.numpy as jnp\n",
    "from jax.experimental import optimizers\n",
    "import time\n",
    "%run Dendrogram.ipynb"
   ]
  },
  {
   "cell_type": "code",
   "execution_count": 2,
   "metadata": {},
   "outputs": [],
   "source": [
    "fn = 2\n",
    "dendros = []\n",
    "for frame_num in range(fn, fn+6):\n",
    "#     orig = cv2.imread(\"test_images/tracer/{}.png\".format(frame_num),\n",
    "#                       cv2.IMREAD_GRAYSCALE)\n",
    "#     orig = orig[50:825, 125:900]\n",
    "#     orig = cv2.resize(orig, (300, 300))\n",
    "    orig = cv2.imread(\"gen/{:02d}.png\".format(frame_num), cv2.IMREAD_GRAYSCALE).astype(np.float32)\n",
    "    im = cv2.GaussianBlur(orig, (3, 3), cv2.BORDER_CONSTANT)\n",
    "    d = make_dendrogram(-im)\n",
    "    dendros.append(d)"
   ]
  },
  {
   "cell_type": "code",
   "execution_count": 6,
   "metadata": {},
   "outputs": [],
   "source": [
    "def cost(params, locs, masses, weights, meta, locality):        \n",
    "\n",
    "    cost_inertia = 0\n",
    "    cost_momentum = 0\n",
    "    cost_vdiv = 0\n",
    "    cost_locality = 0\n",
    "    c0, c1, c1_f, c2, c3 = meta\n",
    "    \n",
    "    prev_p_j = 0\n",
    "    for t in range(len(params)):\n",
    "        link_mat = softmax(params[t][[0], :, :], axis=1)\n",
    "        mass_mat = link_mat * masses[t][:, None]\n",
    "        v_mat = params[t][1:, :, :]\n",
    "        p_mat = mass_mat * v_mat\n",
    "        p_j = jnp.sum(p_mat, axis=1)\n",
    "        m_j = jnp.sum(mass_mat, axis=1)\n",
    "        x_nxt = locs[t+1].T\n",
    "        \n",
    "        x_cur = locs[t].T\n",
    "        com_j = jnp.sum(mass_mat*x_cur[:, :, None], axis=1) / m_j\n",
    "        overshoot = 1*p_j/m_j - (x_nxt - com_j)\n",
    "        penalty = weights[t+1] * jnp.linalg.norm(overshoot, axis=0)\n",
    "        dE_inertia = c0 * jnp.sum(penalty)\n",
    "        \n",
    "        p_i = jnp.sum(p_mat, axis=2)\n",
    "        momentum_lost = p_i - prev_p_j\n",
    "        penalty = weights[t] * jnp.linalg.norm(momentum_lost, axis=0)\n",
    "        dE_momentum = c1 * jnp.sum(penalty)\n",
    "        c1 = c1_f\n",
    "        prev_p_j = p_j\n",
    "        \n",
    "        dE_v_div = 0\n",
    "        for i in range(v_mat.shape[1]):\n",
    "            v_div = jnp.trace(jnp.cov(v_mat[:, i, :]))\n",
    "            dE_v_div += c2 * v_div\n",
    "            \n",
    "        dE_locality = 0\n",
    "        loc_mat = locality[t+1]\n",
    "        for i in range(link_mat.shape[1]):\n",
    "            outer_prod = jnp.outer(link_mat[0, i, :], link_mat[0, i, :])\n",
    "            dE_locality += c3 * jnp.mean(outer_prod * loc_mat)\n",
    "            \n",
    "        cost_inertia += dE_inertia\n",
    "        cost_momentum += dE_momentum\n",
    "        cost_vdiv += dE_v_div\n",
    "        cost_locality += dE_locality\n",
    "#         print(dE_inertia, dE_momentum, dE_v_div, dE_locality)\n",
    "        \n",
    "    return cost_inertia + cost_momentum + cost_vdiv + cost_locality\n",
    "\n",
    "cost = jit(cost, static_argnums=(1,2,3,4,5))\n",
    "dcost = jit(grad(cost, argnums=0), static_argnums=(1,2,3,4,5))"
   ]
  },
  {
   "cell_type": "code",
   "execution_count": null,
   "metadata": {},
   "outputs": [
    {
     "name": "stdout",
     "output_type": "stream",
     "text": [
      "120768.36\n"
     ]
    }
   ],
   "source": [
    "def initialize_params(dendrograms, thresh):\n",
    "    params = []\n",
    "    for t in range(len(dendrograms)-1):\n",
    "        cur_sz = dendrograms[t].size\n",
    "        next_sz = dendrograms[t+1].size\n",
    "        param_mat = np.zeros((3, cur_sz, next_sz))\n",
    "        for i, j in np.ndindex(cur_sz, next_sz):\n",
    "            loc = dendrograms[t].branches[i].loc\n",
    "            vel = 10 * loc / np.linalg.norm(loc)\n",
    "            param_mat[1:, i, j] = vel\n",
    "            sep = dendrograms[t+1].branches[j].loc - dendrograms[t].branches[i].loc\n",
    "            if np.linalg.norm(sep) < thresh:\n",
    "                param_mat[0, i, j] = 1\n",
    "        params.append(param_mat)\n",
    "    return params\n",
    "\n",
    "params = initialize_params(dendros, 20)\n",
    "locs = []\n",
    "masses = []\n",
    "wts = []\n",
    "locality = []\n",
    "meta = [100, 0, 0.1, 50000, 10000]\n",
    "static_args = (locs, masses, wts, meta, locality)\n",
    "for d in dendros:\n",
    "    locs.append(np.asarray([b.loc for b in d.branches]))\n",
    "    masses.append(np.asarray([b.exclusive_mass for b in d.branches]))\n",
    "    wts.append(np.asarray([b.weight for b in d.branches]))\n",
    "    locality.append(d.locality_mat)\n",
    "print(cost(params, *static_args))\n",
    "\n",
    "opt_init, opt_update, get_params = optimizers.adam(step_size=.01)\n",
    "\n",
    "@jit\n",
    "def update(i, opt_state):\n",
    "    params = get_params(opt_state)\n",
    "    return opt_update(i, dcost(params, *static_args), opt_state)\n",
    "\n",
    "opt_state = opt_init(params)\n",
    "    \n",
    "for step in range(15000):\n",
    "    opt_state = update(step, opt_state)\n",
    "    step += 1\n",
    "\n",
    "params = get_params(opt_state)\n",
    "print(cost(params, *static_args))\n",
    "print()"
   ]
  },
  {
   "cell_type": "code",
   "execution_count": 4,
   "metadata": {
    "scrolled": false
   },
   "outputs": [
    {
     "ename": "NameError",
     "evalue": "name 'params' is not defined",
     "output_type": "error",
     "traceback": [
      "\u001b[0;31m---------------------------------------------------------------------------\u001b[0m",
      "\u001b[0;31mNameError\u001b[0m                                 Traceback (most recent call last)",
      "\u001b[0;32m<ipython-input-4-7f89f17482a2>\u001b[0m in \u001b[0;36m<module>\u001b[0;34m\u001b[0m\n\u001b[0;32m----> 1\u001b[0;31m \u001b[0mcost\u001b[0m\u001b[0;34m(\u001b[0m\u001b[0mparams\u001b[0m\u001b[0;34m,\u001b[0m \u001b[0;34m*\u001b[0m\u001b[0mstatic_args\u001b[0m\u001b[0;34m)\u001b[0m\u001b[0;34m\u001b[0m\u001b[0;34m\u001b[0m\u001b[0m\n\u001b[0m\u001b[1;32m      2\u001b[0m \u001b[0;34m\u001b[0m\u001b[0m\n\u001b[1;32m      3\u001b[0m \u001b[0;32mfor\u001b[0m \u001b[0mt\u001b[0m \u001b[0;32min\u001b[0m \u001b[0mrange\u001b[0m\u001b[0;34m(\u001b[0m\u001b[0mlen\u001b[0m\u001b[0;34m(\u001b[0m\u001b[0mparams\u001b[0m\u001b[0;34m)\u001b[0m\u001b[0;34m)\u001b[0m\u001b[0;34m:\u001b[0m\u001b[0;34m\u001b[0m\u001b[0;34m\u001b[0m\u001b[0m\n\u001b[1;32m      4\u001b[0m     \u001b[0mp\u001b[0m \u001b[0;34m=\u001b[0m \u001b[0mparams\u001b[0m\u001b[0;34m[\u001b[0m\u001b[0mt\u001b[0m\u001b[0;34m]\u001b[0m\u001b[0;34m\u001b[0m\u001b[0;34m\u001b[0m\u001b[0m\n\u001b[1;32m      5\u001b[0m     \u001b[0mlink_mat\u001b[0m \u001b[0;34m=\u001b[0m \u001b[0mnp\u001b[0m\u001b[0;34m.\u001b[0m\u001b[0mround\u001b[0m\u001b[0;34m(\u001b[0m\u001b[0msoftmax\u001b[0m\u001b[0;34m(\u001b[0m\u001b[0mp\u001b[0m\u001b[0;34m[\u001b[0m\u001b[0;36m0\u001b[0m\u001b[0;34m,\u001b[0m \u001b[0;34m:\u001b[0m\u001b[0;34m,\u001b[0m \u001b[0;34m:\u001b[0m\u001b[0;34m]\u001b[0m\u001b[0;34m,\u001b[0m \u001b[0maxis\u001b[0m\u001b[0;34m=\u001b[0m\u001b[0;36m1\u001b[0m\u001b[0;34m)\u001b[0m\u001b[0;34m*\u001b[0m\u001b[0;36m100\u001b[0m\u001b[0;34m)\u001b[0m\u001b[0;34m.\u001b[0m\u001b[0mastype\u001b[0m\u001b[0;34m(\u001b[0m\u001b[0mint\u001b[0m\u001b[0;34m)\u001b[0m\u001b[0;34m\u001b[0m\u001b[0;34m\u001b[0m\u001b[0m\n",
      "\u001b[0;31mNameError\u001b[0m: name 'params' is not defined"
     ]
    }
   ],
   "source": [
    "cost(params, *static_args)\n",
    "    \n",
    "for t in range(len(params)):\n",
    "    p = params[t]\n",
    "    link_mat = np.round(softmax(p[0, :, :], axis=1)*100).astype(int)\n",
    "    print(link_mat)\n",
    "    print(dendros[t+1].locality_mat)\n",
    "    v_mat = p[1:, :, :]\n",
    "    print(\"FROM\")\n",
    "    count = 0\n",
    "    for i in range(len(dendros[t].branches)):\n",
    "        b = dendros[t].branches[i]\n",
    "        v = np.round(np.mean(v_mat[:, i, :], axis=1))\n",
    "        dv = np.round(np.trace(np.cov(v_mat[:, i, :]))*100)\n",
    "        if b.mass_frac <= 0.9:\n",
    "            link_mat = np.delete(link_mat, b.tree_id-count, axis=0)\n",
    "            count += 1\n",
    "        print(np.round(b.mass_frac, 2), v, b.vol, b.traj_id)\n",
    "    print()\n",
    "    print(\"TO\")\n",
    "    count = 0\n",
    "    for b in dendros[t+1].branches:\n",
    "        if b.mass_frac <= 0.9:\n",
    "            link_mat = np.delete(link_mat, b.tree_id-count, axis=1)\n",
    "            count += 1\n",
    "        print(np.round(b.mass_frac, 2), b.traj_id)\n",
    "    print(link_mat)\n",
    "    print()\n",
    "    print()\n",
    "    "
   ]
  },
  {
   "cell_type": "code",
   "execution_count": 18,
   "metadata": {},
   "outputs": [],
   "source": [
    "def assign_trajectories(dendros, params, masses):\n",
    "    traj_counter = 0\n",
    "    for b in dendros[0].branches:\n",
    "        if b.mass_frac > 0.9:\n",
    "            b.traj_id = traj_counter\n",
    "            traj_counter += 1\n",
    "    for t in range(1, len(dendros)):\n",
    "        mass_mat = softmax(params[t-1][0, :, :], axis=1) * masses[t-1][:, None]\n",
    "        for tid in range(dendros[t].size):\n",
    "            this_b = dendros[t].branches[tid]\n",
    "            if this_b.mass_frac < 0.9 or this_b.traj_id is not None:\n",
    "                continue\n",
    "            mass_in_brkdwn = np.sum(mass_mat * dendros[t].subtrees[tid][None, :], axis=1)\n",
    "            # largest donor\n",
    "            cur_subroot = dendros[t-1].branches[np.argmax(mass_mat[:, tid])]\n",
    "            best_bullets = None\n",
    "            while cur_subroot:\n",
    "                subtree = cur_subroot.list_descendants()\n",
    "                mass_contr = 0\n",
    "                illegal = False\n",
    "                bullets = np.zeros(dendros[t-1].size)\n",
    "                for b in subtree:\n",
    "                    mass_contr += mass_in_brkdwn[b.tree_id]\n",
    "                    if b.mass_frac > 0.9:\n",
    "#                         if mass_in_brkdwn[b.tree_id] < 0.8:\n",
    "#                             illegal = True\n",
    "#                             break\n",
    "                        bullets[b.tree_id] = 1\n",
    "                if illegal:\n",
    "                    break\n",
    "                total_mass_in = np.sum(mass_in_brkdwn)\n",
    "                if mass_contr / total_mass_in > 0.5:\n",
    "                    best_bullets = bullets\n",
    "                cur_subroot = cur_subroot.parent\n",
    "            if best_bullets is not None:\n",
    "                ind = np.argmax(mass_in_brkdwn * best_bullets)\n",
    "                largest_donor = dendros[t-1].branches[ind]\n",
    "                for b in this_b.list_descendants():\n",
    "                    assert largest_donor.traj_id is not None\n",
    "                    b.traj_id = largest_donor.traj_id\n",
    "            else:\n",
    "                this_b.traj_id = traj_counter\n",
    "                traj_counter += 1\n",
    "\n",
    "for d in dendros:\n",
    "    for b in d.branches:\n",
    "        b.traj_id = None\n",
    "assign_trajectories(dendros, params, masses)\n",
    "                "
   ]
  },
  {
   "cell_type": "code",
   "execution_count": 46,
   "metadata": {
    "scrolled": false
   },
   "outputs": [
    {
     "data": {
      "image/png": "[encoded data removed]",
      "text/plain": [
       "<Figure size 1140x760 with 1 Axes>"
      ]
     },
     "metadata": {
      "needs_background": "light"
     },
     "output_type": "display_data"
    }
   ],
   "source": [
    "def draw_traj(dendros):\n",
    "    colors = [\"black\", \"aqua\", \"coral\", \"chartreuse\", \"azure\",\n",
    "              \"beige\", \"goldenrod\", \"brown\", \"lavender\",\n",
    "              \"fuchsia\", \"silver\", \"ivory\", \"yellow\"]\n",
    "    colors = [mcd.XKCD_COLORS[\"xkcd:\" + c] for c in colors]\n",
    "    newcmp = mplc.ListedColormap(colors)\n",
    "    norm = mplc.Normalize(vmin=0, vmax=1.)\n",
    "    \n",
    "    for t in range(len(dendros)):\n",
    "        im = np.zeros((200, 200))\n",
    "        for b in dendros[t].branches:\n",
    "            if b.mass_frac > 0.9:\n",
    "                for loc in b.full_region:\n",
    "                    im[loc] = (b.traj_id+1)/13.\n",
    "        plt.imshow(im, cmap=newcmp, norm=norm)\n",
    "        plt.savefig(\"results/traj-attempt2/traj-{:02d}.png\".format(t))\n",
    "        \n",
    "draw_traj(dendros)"
   ]
  },
  {
   "cell_type": "code",
   "execution_count": null,
   "metadata": {},
   "outputs": [],
   "source": []
  }
 ],
 "metadata": {
  "kernelspec": {
   "display_name": "Python 3",
   "language": "python",
   "name": "python3"
  },
  "language_info": {
   "codemirror_mode": {
    "name": "ipython",
    "version": 3
   },
   "file_extension": ".py",
   "mimetype": "text/x-python",
   "name": "python",
   "nbconvert_exporter": "python",
   "pygments_lexer": "ipython3",
   "version": "3.7.1"
  }
 },
 "nbformat": 4,
 "nbformat_minor": 4
}
